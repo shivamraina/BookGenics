{
 "cells": [
  {
   "cell_type": "markdown",
   "metadata": {},
   "source": [
    "# Genre Prediction based on [CMU Dataset ](https://www.kaggle.com/applecrazy/cmu-book-summary-dataset?)"
   ]
  },
  {
   "cell_type": "code",
   "execution_count": 2,
   "metadata": {},
   "outputs": [],
   "source": [
    "# importing important libraries\n",
    "import pandas as pd\n",
    "import numpy as np\n",
    "import nltk\n",
    "from sklearn.feature_extraction.text import TfidfVectorizer,CountVectorizer\n",
    "from sklearn.model_selection import train_test_split\n",
    "import matplotlib.pyplot as plt \n",
    "import seaborn as sns\n",
    "import warnings\n",
    "warnings.filterwarnings('ignore')\n",
    "%matplotlib inline"
   ]
  },
  {
   "cell_type": "code",
   "execution_count": 3,
   "metadata": {},
   "outputs": [],
   "source": [
    "# importing the dataset. It is semi-cleaned already\n",
    "df = pd.read_csv(\"./Data/db1.csv\")"
   ]
  },
  {
   "cell_type": "code",
   "execution_count": 4,
   "metadata": {},
   "outputs": [
    {
     "data": {
      "text/html": [
       "<div>\n",
       "<style scoped>\n",
       "    .dataframe tbody tr th:only-of-type {\n",
       "        vertical-align: middle;\n",
       "    }\n",
       "\n",
       "    .dataframe tbody tr th {\n",
       "        vertical-align: top;\n",
       "    }\n",
       "\n",
       "    .dataframe thead th {\n",
       "        text-align: right;\n",
       "    }\n",
       "</style>\n",
       "<table border=\"1\" class=\"dataframe\">\n",
       "  <thead>\n",
       "    <tr style=\"text-align: right;\">\n",
       "      <th></th>\n",
       "      <th>Title</th>\n",
       "      <th>Genres</th>\n",
       "      <th>Summary</th>\n",
       "    </tr>\n",
       "  </thead>\n",
       "  <tbody>\n",
       "    <tr>\n",
       "      <th>0</th>\n",
       "      <td>Animal Farm</td>\n",
       "      <td>['Roman à clef', 'Satire', \"Children's literat...</td>\n",
       "      <td>old major the old boar on the manor farm calls...</td>\n",
       "    </tr>\n",
       "    <tr>\n",
       "      <th>1</th>\n",
       "      <td>A Clockwork Orange</td>\n",
       "      <td>['Science Fiction', 'Novella', 'Speculative fi...</td>\n",
       "      <td>alex a teenager living in near future england ...</td>\n",
       "    </tr>\n",
       "    <tr>\n",
       "      <th>2</th>\n",
       "      <td>The Plague</td>\n",
       "      <td>['Existentialism', 'Fiction', 'Absurdist ficti...</td>\n",
       "      <td>the text of the plague is divided into five pa...</td>\n",
       "    </tr>\n",
       "    <tr>\n",
       "      <th>3</th>\n",
       "      <td>A Fire Upon the Deep</td>\n",
       "      <td>['Hard science fiction', 'Science Fiction', 'S...</td>\n",
       "      <td>the novel posits that space around the milky w...</td>\n",
       "    </tr>\n",
       "    <tr>\n",
       "      <th>4</th>\n",
       "      <td>All Quiet on the Western Front</td>\n",
       "      <td>['War novel', 'Roman à clef']</td>\n",
       "      <td>the book tells the story of paul b umer a germ...</td>\n",
       "    </tr>\n",
       "  </tbody>\n",
       "</table>\n",
       "</div>"
      ],
      "text/plain": [
       "                            Title  \\\n",
       "0                     Animal Farm   \n",
       "1              A Clockwork Orange   \n",
       "2                      The Plague   \n",
       "3            A Fire Upon the Deep   \n",
       "4  All Quiet on the Western Front   \n",
       "\n",
       "                                              Genres  \\\n",
       "0  ['Roman à clef', 'Satire', \"Children's literat...   \n",
       "1  ['Science Fiction', 'Novella', 'Speculative fi...   \n",
       "2  ['Existentialism', 'Fiction', 'Absurdist ficti...   \n",
       "3  ['Hard science fiction', 'Science Fiction', 'S...   \n",
       "4                      ['War novel', 'Roman à clef']   \n",
       "\n",
       "                                             Summary  \n",
       "0  old major the old boar on the manor farm calls...  \n",
       "1  alex a teenager living in near future england ...  \n",
       "2  the text of the plague is divided into five pa...  \n",
       "3  the novel posits that space around the milky w...  \n",
       "4  the book tells the story of paul b umer a germ...  "
      ]
     },
     "execution_count": 4,
     "metadata": {},
     "output_type": "execute_result"
    }
   ],
   "source": [
    "df.head()"
   ]
  },
  {
   "cell_type": "code",
   "execution_count": 5,
   "metadata": {},
   "outputs": [
    {
     "name": "stdout",
     "output_type": "stream",
     "text": [
      "<class 'pandas.core.frame.DataFrame'>\n",
      "RangeIndex: 12402 entries, 0 to 12401\n",
      "Data columns (total 3 columns):\n",
      "Title      12402 non-null object\n",
      "Genres     12402 non-null object\n",
      "Summary    12402 non-null object\n",
      "dtypes: object(3)\n",
      "memory usage: 145.4+ KB\n"
     ]
    }
   ],
   "source": [
    "df.info()"
   ]
  },
  {
   "cell_type": "code",
   "execution_count": 6,
   "metadata": {},
   "outputs": [
    {
     "data": {
      "text/html": [
       "<div>\n",
       "<style scoped>\n",
       "    .dataframe tbody tr th:only-of-type {\n",
       "        vertical-align: middle;\n",
       "    }\n",
       "\n",
       "    .dataframe tbody tr th {\n",
       "        vertical-align: top;\n",
       "    }\n",
       "\n",
       "    .dataframe thead th {\n",
       "        text-align: right;\n",
       "    }\n",
       "</style>\n",
       "<table border=\"1\" class=\"dataframe\">\n",
       "  <thead>\n",
       "    <tr style=\"text-align: right;\">\n",
       "      <th></th>\n",
       "      <th>Title</th>\n",
       "      <th>Genres</th>\n",
       "      <th>Summary</th>\n",
       "    </tr>\n",
       "  </thead>\n",
       "  <tbody>\n",
       "    <tr>\n",
       "      <th>0</th>\n",
       "      <td>Animal Farm</td>\n",
       "      <td>[Roman à clef, Satire, Children's literature, ...</td>\n",
       "      <td>old major the old boar on the manor farm calls...</td>\n",
       "    </tr>\n",
       "    <tr>\n",
       "      <th>1</th>\n",
       "      <td>A Clockwork Orange</td>\n",
       "      <td>[Science Fiction, Novella, Speculative fiction...</td>\n",
       "      <td>alex a teenager living in near future england ...</td>\n",
       "    </tr>\n",
       "    <tr>\n",
       "      <th>2</th>\n",
       "      <td>The Plague</td>\n",
       "      <td>[Existentialism, Fiction, Absurdist fiction, N...</td>\n",
       "      <td>the text of the plague is divided into five pa...</td>\n",
       "    </tr>\n",
       "    <tr>\n",
       "      <th>3</th>\n",
       "      <td>A Fire Upon the Deep</td>\n",
       "      <td>[Hard science fiction, Science Fiction, Specul...</td>\n",
       "      <td>the novel posits that space around the milky w...</td>\n",
       "    </tr>\n",
       "    <tr>\n",
       "      <th>4</th>\n",
       "      <td>All Quiet on the Western Front</td>\n",
       "      <td>[War novel, Roman à clef]</td>\n",
       "      <td>the book tells the story of paul b umer a germ...</td>\n",
       "    </tr>\n",
       "  </tbody>\n",
       "</table>\n",
       "</div>"
      ],
      "text/plain": [
       "                            Title  \\\n",
       "0                     Animal Farm   \n",
       "1              A Clockwork Orange   \n",
       "2                      The Plague   \n",
       "3            A Fire Upon the Deep   \n",
       "4  All Quiet on the Western Front   \n",
       "\n",
       "                                              Genres  \\\n",
       "0  [Roman à clef, Satire, Children's literature, ...   \n",
       "1  [Science Fiction, Novella, Speculative fiction...   \n",
       "2  [Existentialism, Fiction, Absurdist fiction, N...   \n",
       "3  [Hard science fiction, Science Fiction, Specul...   \n",
       "4                          [War novel, Roman à clef]   \n",
       "\n",
       "                                             Summary  \n",
       "0  old major the old boar on the manor farm calls...  \n",
       "1  alex a teenager living in near future england ...  \n",
       "2  the text of the plague is divided into five pa...  \n",
       "3  the novel posits that space around the milky w...  \n",
       "4  the book tells the story of paul b umer a germ...  "
      ]
     },
     "execution_count": 6,
     "metadata": {},
     "output_type": "execute_result"
    }
   ],
   "source": [
    "# All genres are strings, but we want lists, so a manual function to do it\n",
    "ans = []\n",
    "for genres in df['Genres']:\n",
    "    l = []\n",
    "    a = [0]\n",
    "    for i in range(len(genres)):\n",
    "        if genres[i] == ',':\n",
    "            a.append(i)\n",
    "    a.append(len(genres)-1)\n",
    "    for i in range(len(a)-1):\n",
    "        start = a[i]\n",
    "        end = a[i+1]\n",
    "        while not ((ord(genres[start])>=65 and ord(genres[start])<=90) or (ord(genres[start])>=97 and ord(genres[start])<=122)):\n",
    "            start+=1\n",
    "        while not ((ord(genres[end])>=65 and ord(genres[end])<=90) or (ord(genres[end])>=97 and ord(genres[end])<=122)):\n",
    "            end-=1\n",
    "        text = genres[start:end+1]\n",
    "        l.append(text)\n",
    "    ans.append(l)\n",
    "df['Genres'] = ans\n",
    "df.head()"
   ]
  },
  {
   "cell_type": "markdown",
   "metadata": {},
   "source": [
    "Exploring the genres"
   ]
  },
  {
   "cell_type": "code",
   "execution_count": 7,
   "metadata": {},
   "outputs": [],
   "source": [
    "genres = [] \n",
    "for i in df['Genres']:\n",
    "    for j in i:\n",
    "        genres.append(j)"
   ]
  },
  {
   "cell_type": "code",
   "execution_count": 8,
   "metadata": {},
   "outputs": [
    {
     "data": {
      "text/plain": [
       "227"
      ]
     },
     "execution_count": 8,
     "metadata": {},
     "output_type": "execute_result"
    }
   ],
   "source": [
    "len(set(genres))"
   ]
  },
  {
   "cell_type": "code",
   "execution_count": 9,
   "metadata": {},
   "outputs": [],
   "source": [
    "all_genres = nltk.FreqDist(genres) \n",
    "\n",
    "# create dataframe\n",
    "all_genres_df = pd.DataFrame({'Genre': list(all_genres.keys()), \n",
    "                              'Count': list(all_genres.values())})"
   ]
  },
  {
   "cell_type": "code",
   "execution_count": 10,
   "metadata": {},
   "outputs": [
    {
     "data": {
      "text/html": [
       "<div>\n",
       "<style scoped>\n",
       "    .dataframe tbody tr th:only-of-type {\n",
       "        vertical-align: middle;\n",
       "    }\n",
       "\n",
       "    .dataframe tbody tr th {\n",
       "        vertical-align: top;\n",
       "    }\n",
       "\n",
       "    .dataframe thead th {\n",
       "        text-align: right;\n",
       "    }\n",
       "</style>\n",
       "<table border=\"1\" class=\"dataframe\">\n",
       "  <thead>\n",
       "    <tr style=\"text-align: right;\">\n",
       "      <th></th>\n",
       "      <th>Genre</th>\n",
       "      <th>Count</th>\n",
       "    </tr>\n",
       "  </thead>\n",
       "  <tbody>\n",
       "    <tr>\n",
       "      <th>0</th>\n",
       "      <td>Roman à clef</td>\n",
       "      <td>29</td>\n",
       "    </tr>\n",
       "    <tr>\n",
       "      <th>1</th>\n",
       "      <td>Satire</td>\n",
       "      <td>118</td>\n",
       "    </tr>\n",
       "    <tr>\n",
       "      <th>2</th>\n",
       "      <td>Children's literature</td>\n",
       "      <td>2070</td>\n",
       "    </tr>\n",
       "    <tr>\n",
       "      <th>3</th>\n",
       "      <td>Speculative fiction</td>\n",
       "      <td>4197</td>\n",
       "    </tr>\n",
       "    <tr>\n",
       "      <th>4</th>\n",
       "      <td>Fiction</td>\n",
       "      <td>4648</td>\n",
       "    </tr>\n",
       "    <tr>\n",
       "      <th>...</th>\n",
       "      <td>...</td>\n",
       "      <td>...</td>\n",
       "    </tr>\n",
       "    <tr>\n",
       "      <th>222</th>\n",
       "      <td>New York Times Best Seller list</td>\n",
       "      <td>1</td>\n",
       "    </tr>\n",
       "    <tr>\n",
       "      <th>223</th>\n",
       "      <td>Epic Science Fiction and Fantasy</td>\n",
       "      <td>1</td>\n",
       "    </tr>\n",
       "    <tr>\n",
       "      <th>224</th>\n",
       "      <td>Alien invasion</td>\n",
       "      <td>1</td>\n",
       "    </tr>\n",
       "    <tr>\n",
       "      <th>225</th>\n",
       "      <td>Prose</td>\n",
       "      <td>4</td>\n",
       "    </tr>\n",
       "    <tr>\n",
       "      <th>226</th>\n",
       "      <td>Pastiche</td>\n",
       "      <td>1</td>\n",
       "    </tr>\n",
       "  </tbody>\n",
       "</table>\n",
       "<p>227 rows × 2 columns</p>\n",
       "</div>"
      ],
      "text/plain": [
       "                                Genre  Count\n",
       "0                        Roman à clef     29\n",
       "1                              Satire    118\n",
       "2               Children's literature   2070\n",
       "3                 Speculative fiction   4197\n",
       "4                             Fiction   4648\n",
       "..                                ...    ...\n",
       "222   New York Times Best Seller list      1\n",
       "223  Epic Science Fiction and Fantasy      1\n",
       "224                    Alien invasion      1\n",
       "225                             Prose      4\n",
       "226                          Pastiche      1\n",
       "\n",
       "[227 rows x 2 columns]"
      ]
     },
     "execution_count": 10,
     "metadata": {},
     "output_type": "execute_result"
    }
   ],
   "source": [
    "all_genres_df"
   ]
  },
  {
   "cell_type": "code",
   "execution_count": 11,
   "metadata": {},
   "outputs": [
    {
     "data": {
      "image/png": "[encoded data removed]",
      "text/plain": [
       "<Figure size 864x1080 with 1 Axes>"
      ]
     },
     "metadata": {
      "needs_background": "light"
     },
     "output_type": "display_data"
    }
   ],
   "source": [
    "g = all_genres_df.nlargest(columns=\"Count\", n = 50) \n",
    "plt.figure(figsize=(12,15)) \n",
    "ax = sns.barplot(data=g, x= \"Count\", y = \"Genre\") \n",
    "ax.set(ylabel = 'Count') \n",
    "plt.show()"
   ]
  },
  {
   "cell_type": "code",
   "execution_count": 12,
   "metadata": {},
   "outputs": [],
   "source": [
    "redundant=list(all_genres_df[all_genres_df['Count']<3]['Genre'])"
   ]
  },
  {
   "cell_type": "code",
   "execution_count": 13,
   "metadata": {},
   "outputs": [],
   "source": [
    "def remove_redundant(arr):\n",
    "    brr=[]\n",
    "    for i in arr:\n",
    "        if i not in redundant:\n",
    "            brr.append(i)\n",
    "    return brr"
   ]
  },
  {
   "cell_type": "code",
   "execution_count": 14,
   "metadata": {},
   "outputs": [],
   "source": [
    "df['Genres']=df['Genres'].apply(remove_redundant)"
   ]
  },
  {
   "cell_type": "code",
   "execution_count": 15,
   "metadata": {},
   "outputs": [],
   "source": [
    "Genres_per_book=[]\n",
    "for i in df['Genres']:\n",
    "    Genres_per_book.append(len(i))"
   ]
  },
  {
   "cell_type": "code",
   "execution_count": 16,
   "metadata": {},
   "outputs": [
    {
     "data": {
      "text/plain": [
       "11"
      ]
     },
     "execution_count": 16,
     "metadata": {},
     "output_type": "execute_result"
    }
   ],
   "source": [
    "len(set(Genres_per_book))"
   ]
  },
  {
   "cell_type": "code",
   "execution_count": 17,
   "metadata": {},
   "outputs": [],
   "source": [
    "Genres_per_book_freq = nltk.FreqDist(Genres_per_book) \n",
    "\n",
    "# create dataframe\n",
    "Genres_per_book_df = pd.DataFrame({'Number of Genres/book': list(Genres_per_book_freq.keys()), \n",
    "                              'Count': list(Genres_per_book_freq.values())})"
   ]
  },
  {
   "cell_type": "code",
   "execution_count": 18,
   "metadata": {},
   "outputs": [
    {
     "data": {
      "text/html": [
       "<div>\n",
       "<style scoped>\n",
       "    .dataframe tbody tr th:only-of-type {\n",
       "        vertical-align: middle;\n",
       "    }\n",
       "\n",
       "    .dataframe tbody tr th {\n",
       "        vertical-align: top;\n",
       "    }\n",
       "\n",
       "    .dataframe thead th {\n",
       "        text-align: right;\n",
       "    }\n",
       "</style>\n",
       "<table border=\"1\" class=\"dataframe\">\n",
       "  <thead>\n",
       "    <tr style=\"text-align: right;\">\n",
       "      <th></th>\n",
       "      <th>Number of Genres/book</th>\n",
       "      <th>Count</th>\n",
       "    </tr>\n",
       "  </thead>\n",
       "  <tbody>\n",
       "    <tr>\n",
       "      <th>0</th>\n",
       "      <td>0</td>\n",
       "      <td>12</td>\n",
       "    </tr>\n",
       "    <tr>\n",
       "      <th>1</th>\n",
       "      <td>1</td>\n",
       "      <td>4360</td>\n",
       "    </tr>\n",
       "    <tr>\n",
       "      <th>2</th>\n",
       "      <td>2</td>\n",
       "      <td>3387</td>\n",
       "    </tr>\n",
       "    <tr>\n",
       "      <th>3</th>\n",
       "      <td>3</td>\n",
       "      <td>2221</td>\n",
       "    </tr>\n",
       "    <tr>\n",
       "      <th>4</th>\n",
       "      <td>4</td>\n",
       "      <td>1391</td>\n",
       "    </tr>\n",
       "    <tr>\n",
       "      <th>5</th>\n",
       "      <td>5</td>\n",
       "      <td>643</td>\n",
       "    </tr>\n",
       "    <tr>\n",
       "      <th>6</th>\n",
       "      <td>6</td>\n",
       "      <td>255</td>\n",
       "    </tr>\n",
       "    <tr>\n",
       "      <th>7</th>\n",
       "      <td>7</td>\n",
       "      <td>95</td>\n",
       "    </tr>\n",
       "    <tr>\n",
       "      <th>8</th>\n",
       "      <td>8</td>\n",
       "      <td>28</td>\n",
       "    </tr>\n",
       "    <tr>\n",
       "      <th>9</th>\n",
       "      <td>9</td>\n",
       "      <td>9</td>\n",
       "    </tr>\n",
       "    <tr>\n",
       "      <th>10</th>\n",
       "      <td>11</td>\n",
       "      <td>1</td>\n",
       "    </tr>\n",
       "  </tbody>\n",
       "</table>\n",
       "</div>"
      ],
      "text/plain": [
       "    Number of Genres/book  Count\n",
       "0                       0     12\n",
       "1                       1   4360\n",
       "2                       2   3387\n",
       "3                       3   2221\n",
       "4                       4   1391\n",
       "5                       5    643\n",
       "6                       6    255\n",
       "7                       7     95\n",
       "8                       8     28\n",
       "9                       9      9\n",
       "10                     11      1"
      ]
     },
     "execution_count": 18,
     "metadata": {},
     "output_type": "execute_result"
    }
   ],
   "source": [
    "Genres_per_book_df=Genres_per_book_df.sort_values('Number of Genres/book')\n",
    "Genres_per_book_df=Genres_per_book_df.reset_index(drop=True) \n",
    "Genres_per_book_df"
   ]
  },
  {
   "cell_type": "code",
   "execution_count": 19,
   "metadata": {},
   "outputs": [],
   "source": [
    "#Removing the books with no genre\n",
    "def count(arr):\n",
    "    return len(arr)"
   ]
  },
  {
   "cell_type": "code",
   "execution_count": 20,
   "metadata": {},
   "outputs": [],
   "source": [
    "df=df[df['Genres'].apply(count) != 0]"
   ]
  },
  {
   "cell_type": "code",
   "execution_count": 21,
   "metadata": {},
   "outputs": [],
   "source": [
    "Genres_per_book_df.drop([0],inplace=True)"
   ]
  },
  {
   "cell_type": "code",
   "execution_count": 22,
   "metadata": {},
   "outputs": [
    {
     "data": {
      "text/html": [
       "<div>\n",
       "<style scoped>\n",
       "    .dataframe tbody tr th:only-of-type {\n",
       "        vertical-align: middle;\n",
       "    }\n",
       "\n",
       "    .dataframe tbody tr th {\n",
       "        vertical-align: top;\n",
       "    }\n",
       "\n",
       "    .dataframe thead th {\n",
       "        text-align: right;\n",
       "    }\n",
       "</style>\n",
       "<table border=\"1\" class=\"dataframe\">\n",
       "  <thead>\n",
       "    <tr style=\"text-align: right;\">\n",
       "      <th></th>\n",
       "      <th>Number of Genres/book</th>\n",
       "      <th>Count</th>\n",
       "    </tr>\n",
       "  </thead>\n",
       "  <tbody>\n",
       "    <tr>\n",
       "      <th>1</th>\n",
       "      <td>1</td>\n",
       "      <td>4360</td>\n",
       "    </tr>\n",
       "    <tr>\n",
       "      <th>2</th>\n",
       "      <td>2</td>\n",
       "      <td>3387</td>\n",
       "    </tr>\n",
       "    <tr>\n",
       "      <th>3</th>\n",
       "      <td>3</td>\n",
       "      <td>2221</td>\n",
       "    </tr>\n",
       "    <tr>\n",
       "      <th>4</th>\n",
       "      <td>4</td>\n",
       "      <td>1391</td>\n",
       "    </tr>\n",
       "    <tr>\n",
       "      <th>5</th>\n",
       "      <td>5</td>\n",
       "      <td>643</td>\n",
       "    </tr>\n",
       "    <tr>\n",
       "      <th>6</th>\n",
       "      <td>6</td>\n",
       "      <td>255</td>\n",
       "    </tr>\n",
       "    <tr>\n",
       "      <th>7</th>\n",
       "      <td>7</td>\n",
       "      <td>95</td>\n",
       "    </tr>\n",
       "    <tr>\n",
       "      <th>8</th>\n",
       "      <td>8</td>\n",
       "      <td>28</td>\n",
       "    </tr>\n",
       "    <tr>\n",
       "      <th>9</th>\n",
       "      <td>9</td>\n",
       "      <td>9</td>\n",
       "    </tr>\n",
       "    <tr>\n",
       "      <th>10</th>\n",
       "      <td>11</td>\n",
       "      <td>1</td>\n",
       "    </tr>\n",
       "  </tbody>\n",
       "</table>\n",
       "</div>"
      ],
      "text/plain": [
       "    Number of Genres/book  Count\n",
       "1                       1   4360\n",
       "2                       2   3387\n",
       "3                       3   2221\n",
       "4                       4   1391\n",
       "5                       5    643\n",
       "6                       6    255\n",
       "7                       7     95\n",
       "8                       8     28\n",
       "9                       9      9\n",
       "10                     11      1"
      ]
     },
     "execution_count": 22,
     "metadata": {},
     "output_type": "execute_result"
    }
   ],
   "source": [
    "Genres_per_book_df"
   ]
  },
  {
   "cell_type": "code",
   "execution_count": 23,
   "metadata": {},
   "outputs": [
    {
     "data": {
      "text/plain": [
       "<matplotlib.axes._subplots.AxesSubplot at 0x1b3caf70>"
      ]
     },
     "execution_count": 23,
     "metadata": {},
     "output_type": "execute_result"
    },
    {
     "data": {
      "image/png": "[encoded data removed]",
      "text/plain": [
       "<Figure size 432x288 with 1 Axes>"
      ]
     },
     "metadata": {
      "needs_background": "light"
     },
     "output_type": "display_data"
    }
   ],
   "source": [
    "sns.barplot(data=Genres_per_book_df, x= \"Number of Genres/book\", y = \"Count\") "
   ]
  },
  {
   "cell_type": "markdown",
   "metadata": {},
   "source": [
    "Analysis of the summary"
   ]
  },
  {
   "cell_type": "code",
   "execution_count": 24,
   "metadata": {},
   "outputs": [
    {
     "data": {
      "image/png": "[encoded data removed]",
      "text/plain": [
       "<Figure size 864x1080 with 1 Axes>"
      ]
     },
     "metadata": {
      "needs_background": "light"
     },
     "output_type": "display_data"
    }
   ],
   "source": [
    "def freq_words(x, terms = 30):\n",
    "    all_words = ' '.join([text for text in x]) \n",
    "    all_words = all_words.split() \n",
    "    fdist = nltk.FreqDist(all_words) \n",
    "    words_df = pd.DataFrame({'word':list(fdist.keys()), 'count':list(fdist.values())}) \n",
    "  \n",
    "    d = words_df.nlargest(columns=\"count\", n = terms) \n",
    "  \n",
    "    # visualize words and frequencies\n",
    "    plt.figure(figsize=(12,15)) \n",
    "    ax = sns.barplot(data=d, x= \"count\", y = \"word\") \n",
    "    ax.set(ylabel = 'Word') \n",
    "    plt.show()\n",
    "  \n",
    "# print 100 most frequent words \n",
    "freq_words(df['Summary'], 100)"
   ]
  },
  {
   "cell_type": "code",
   "execution_count": 25,
   "metadata": {},
   "outputs": [],
   "source": [
    "# Most of the words are Stop-Words. Remove them\n",
    "from nltk.corpus import stopwords\n",
    "stop_words = set(stopwords.words('english'))\n",
    "\n",
    "def remove_stopwords(text):\n",
    "    no_stopword_text = [w for w in text.split() if not w in stop_words]\n",
    "    return ' '.join(no_stopword_text)\n",
    "\n",
    "df['Summary'] = df['Summary'].apply(lambda x: remove_stopwords(x))"
   ]
  },
  {
   "cell_type": "code",
   "execution_count": 26,
   "metadata": {},
   "outputs": [
    {
     "data": {
      "image/png": "[encoded data removed]",
      "text/plain": [
       "<Figure size 864x1080 with 1 Axes>"
      ]
     },
     "metadata": {
      "needs_background": "light"
     },
     "output_type": "display_data"
    }
   ],
   "source": [
    "freq_words(df['Summary'], 100)"
   ]
  },
  {
   "cell_type": "markdown",
   "metadata": {},
   "source": [
    "The words look more meaningful now"
   ]
  },
  {
   "cell_type": "markdown",
   "metadata": {},
   "source": []
  },
  {
   "cell_type": "markdown",
   "metadata": {},
   "source": [
    "One hot encoding the target variable"
   ]
  },
  {
   "cell_type": "code",
   "execution_count": 27,
   "metadata": {},
   "outputs": [
    {
     "data": {
      "text/plain": [
       "array([[0, 0, 0, ..., 0, 0, 0],\n",
       "       [0, 0, 0, ..., 0, 0, 0],\n",
       "       [1, 0, 0, ..., 0, 0, 0],\n",
       "       ...,\n",
       "       [0, 0, 0, ..., 0, 0, 0],\n",
       "       [0, 0, 0, ..., 0, 0, 0],\n",
       "       [0, 0, 0, ..., 0, 0, 0]])"
      ]
     },
     "execution_count": 27,
     "metadata": {},
     "output_type": "execute_result"
    }
   ],
   "source": [
    "from sklearn.preprocessing import MultiLabelBinarizer\n",
    "\n",
    "multilabel_binarizer = MultiLabelBinarizer()\n",
    "multilabel_binarizer.fit(df['Genres'])\n",
    "\n",
    "# transform target variable\n",
    "y = multilabel_binarizer.transform(df['Genres'])\n",
    "y"
   ]
  },
  {
   "cell_type": "code",
   "execution_count": 28,
   "metadata": {},
   "outputs": [
    {
     "data": {
      "text/plain": [
       "(12390, 159)"
      ]
     },
     "execution_count": 28,
     "metadata": {},
     "output_type": "execute_result"
    }
   ],
   "source": [
    "len(y),len(y[0])"
   ]
  },
  {
   "cell_type": "markdown",
   "metadata": {},
   "source": [
    "There are 12390 rows with 159 distinct genres"
   ]
  },
  {
   "cell_type": "markdown",
   "metadata": {},
   "source": [
    "Now, Splitting the data"
   ]
  },
  {
   "cell_type": "code",
   "execution_count": 29,
   "metadata": {},
   "outputs": [],
   "source": [
    "xtrain, xt, ytrain, yt = train_test_split(df['Summary'], y, test_size=0.4,random_state=1)"
   ]
  },
  {
   "cell_type": "code",
   "execution_count": 30,
   "metadata": {},
   "outputs": [],
   "source": [
    "xtest, xval, ytest, yval = train_test_split(xt, yt, test_size=0.5,random_state=1)"
   ]
  },
  {
   "cell_type": "markdown",
   "metadata": {},
   "source": [
    "Checking if genres in ytrain"
   ]
  },
  {
   "cell_type": "code",
   "execution_count": 31,
   "metadata": {},
   "outputs": [
    {
     "data": {
      "text/plain": [
       "{'1': 18,\n",
       " '2': 19,\n",
       " '3': 204,\n",
       " '4': 119,\n",
       " '5': 4,\n",
       " '6': 2,\n",
       " '7': 30,\n",
       " '8': 49,\n",
       " '9': 75,\n",
       " '10': 30,\n",
       " '11': 9,\n",
       " '12': 67,\n",
       " '13': 21,\n",
       " '14': 10,\n",
       " '15': 3,\n",
       " '16': 2,\n",
       " '17': 9,\n",
       " '18': 1224,\n",
       " '19': 11,\n",
       " '20': 87,\n",
       " '21': 4,\n",
       " '22': 2,\n",
       " '23': 64,\n",
       " '24': 6,\n",
       " '25': 3,\n",
       " '26': 3,\n",
       " '27': 3,\n",
       " '28': 3,\n",
       " '29': 8,\n",
       " '30': 2,\n",
       " '31': 438,\n",
       " '32': 9,\n",
       " '33': 17,\n",
       " '34': 167,\n",
       " '35': 18,\n",
       " '36': 3,\n",
       " '37': 77,\n",
       " '38': 5,\n",
       " '39': 2,\n",
       " '40': 4,\n",
       " '41': 21,\n",
       " '42': 2,\n",
       " '43': 11,\n",
       " '44': 4,\n",
       " '45': 3,\n",
       " '46': 2,\n",
       " '47': 1394,\n",
       " '48': 4,\n",
       " '49': 3,\n",
       " '50': 2,\n",
       " '51': 2792,\n",
       " '52': 21,\n",
       " '53': 5,\n",
       " '54': 1,\n",
       " '55': 70,\n",
       " '56': 12,\n",
       " '57': 17,\n",
       " '58': 14,\n",
       " '59': 2,\n",
       " '60': 46,\n",
       " '61': 8,\n",
       " '62': 221,\n",
       " '63': 382,\n",
       " '64': 3,\n",
       " '65': 2,\n",
       " '66': 36,\n",
       " '67': 285,\n",
       " '68': 39,\n",
       " '69': 3,\n",
       " '70': 7,\n",
       " '71': 3,\n",
       " '72': 10,\n",
       " '73': 24,\n",
       " '74': 6,\n",
       " '75': 1,\n",
       " '76': 7,\n",
       " '77': 17,\n",
       " '78': 3,\n",
       " '79': 7,\n",
       " '80': 37,\n",
       " '81': 21,\n",
       " '82': 7,\n",
       " '83': 774,\n",
       " '84': 6,\n",
       " '85': 152,\n",
       " '86': 2,\n",
       " '87': 1442,\n",
       " '88': 45,\n",
       " '89': 12,\n",
       " '90': 31,\n",
       " '91': 10,\n",
       " '92': 4,\n",
       " '93': 35,\n",
       " '94': 3,\n",
       " '95': 11,\n",
       " '96': 26,\n",
       " '97': 3,\n",
       " '98': 5,\n",
       " '99': 20,\n",
       " '100': 2,\n",
       " '101': 7,\n",
       " '102': 4,\n",
       " '103': 5,\n",
       " '104': 5,\n",
       " '105': 4,\n",
       " '106': 15,\n",
       " '107': 15,\n",
       " '108': 24,\n",
       " '109': 7,\n",
       " '110': 12,\n",
       " '111': 4,\n",
       " '112': 32,\n",
       " '113': 16,\n",
       " '114': 247,\n",
       " '115': 74,\n",
       " '116': 11,\n",
       " '117': 1647,\n",
       " '118': 7,\n",
       " '119': 7,\n",
       " '120': 2,\n",
       " '121': 4,\n",
       " '122': 2,\n",
       " '123': 41,\n",
       " '124': 1,\n",
       " '125': 1,\n",
       " '126': 2,\n",
       " '127': 18,\n",
       " '128': 3,\n",
       " '129': 8,\n",
       " '130': 2508,\n",
       " '131': 3,\n",
       " '132': 3,\n",
       " '133': 96,\n",
       " '134': 30,\n",
       " '135': 1,\n",
       " '136': 2,\n",
       " '137': 429,\n",
       " '138': 18,\n",
       " '139': 39,\n",
       " '140': 335,\n",
       " '141': 10,\n",
       " '142': 4,\n",
       " '143': 4,\n",
       " '144': 11,\n",
       " '145': 8,\n",
       " '146': 2,\n",
       " '147': 13,\n",
       " '148': 27,\n",
       " '149': 5,\n",
       " '150': 43,\n",
       " '151': 9,\n",
       " '152': 49,\n",
       " '153': 25,\n",
       " '154': 13,\n",
       " '155': 19,\n",
       " '156': 15,\n",
       " '157': 466,\n",
       " '158': 1,\n",
       " '159': 3}"
      ]
     },
     "execution_count": 31,
     "metadata": {},
     "output_type": "execute_result"
    }
   ],
   "source": [
    "genre_dict={}\n",
    "for i in range(len(ytrain[0])):\n",
    "    s=0\n",
    "    for j in range(len(ytrain)):\n",
    "        s+=ytrain[j][i]\n",
    "    genre_dict[str(i+1)]=s\n",
    "genre_dict"
   ]
  },
  {
   "cell_type": "code",
   "execution_count": 32,
   "metadata": {},
   "outputs": [],
   "source": [
    "Genres_in_training_data = pd.DataFrame({'Genre_index': list(genre_dict.keys()), \n",
    "                              'Count': list(genre_dict.values())})"
   ]
  },
  {
   "cell_type": "code",
   "execution_count": 33,
   "metadata": {},
   "outputs": [
    {
     "data": {
      "text/html": [
       "<div>\n",
       "<style scoped>\n",
       "    .dataframe tbody tr th:only-of-type {\n",
       "        vertical-align: middle;\n",
       "    }\n",
       "\n",
       "    .dataframe tbody tr th {\n",
       "        vertical-align: top;\n",
       "    }\n",
       "\n",
       "    .dataframe thead th {\n",
       "        text-align: right;\n",
       "    }\n",
       "</style>\n",
       "<table border=\"1\" class=\"dataframe\">\n",
       "  <thead>\n",
       "    <tr style=\"text-align: right;\">\n",
       "      <th></th>\n",
       "      <th>Genre_index</th>\n",
       "      <th>Count</th>\n",
       "    </tr>\n",
       "  </thead>\n",
       "  <tbody>\n",
       "    <tr>\n",
       "      <th>0</th>\n",
       "      <td>1</td>\n",
       "      <td>18</td>\n",
       "    </tr>\n",
       "    <tr>\n",
       "      <th>1</th>\n",
       "      <td>2</td>\n",
       "      <td>19</td>\n",
       "    </tr>\n",
       "    <tr>\n",
       "      <th>2</th>\n",
       "      <td>3</td>\n",
       "      <td>204</td>\n",
       "    </tr>\n",
       "    <tr>\n",
       "      <th>3</th>\n",
       "      <td>4</td>\n",
       "      <td>119</td>\n",
       "    </tr>\n",
       "    <tr>\n",
       "      <th>4</th>\n",
       "      <td>5</td>\n",
       "      <td>4</td>\n",
       "    </tr>\n",
       "    <tr>\n",
       "      <th>...</th>\n",
       "      <td>...</td>\n",
       "      <td>...</td>\n",
       "    </tr>\n",
       "    <tr>\n",
       "      <th>154</th>\n",
       "      <td>155</td>\n",
       "      <td>19</td>\n",
       "    </tr>\n",
       "    <tr>\n",
       "      <th>155</th>\n",
       "      <td>156</td>\n",
       "      <td>15</td>\n",
       "    </tr>\n",
       "    <tr>\n",
       "      <th>156</th>\n",
       "      <td>157</td>\n",
       "      <td>466</td>\n",
       "    </tr>\n",
       "    <tr>\n",
       "      <th>157</th>\n",
       "      <td>158</td>\n",
       "      <td>1</td>\n",
       "    </tr>\n",
       "    <tr>\n",
       "      <th>158</th>\n",
       "      <td>159</td>\n",
       "      <td>3</td>\n",
       "    </tr>\n",
       "  </tbody>\n",
       "</table>\n",
       "<p>159 rows × 2 columns</p>\n",
       "</div>"
      ],
      "text/plain": [
       "    Genre_index  Count\n",
       "0             1     18\n",
       "1             2     19\n",
       "2             3    204\n",
       "3             4    119\n",
       "4             5      4\n",
       "..          ...    ...\n",
       "154         155     19\n",
       "155         156     15\n",
       "156         157    466\n",
       "157         158      1\n",
       "158         159      3\n",
       "\n",
       "[159 rows x 2 columns]"
      ]
     },
     "execution_count": 33,
     "metadata": {},
     "output_type": "execute_result"
    }
   ],
   "source": [
    "Genres_in_training_data"
   ]
  },
  {
   "cell_type": "code",
   "execution_count": 34,
   "metadata": {},
   "outputs": [
    {
     "data": {
      "text/plain": [
       "0"
      ]
     },
     "execution_count": 34,
     "metadata": {},
     "output_type": "execute_result"
    }
   ],
   "source": [
    "len(Genres_in_training_data[Genres_in_training_data['Count']==0])"
   ]
  },
  {
   "cell_type": "markdown",
   "metadata": {},
   "source": [
    "There is no genre in traing data for which there is no book"
   ]
  },
  {
   "cell_type": "code",
   "execution_count": 5,
   "metadata": {},
   "outputs": [],
   "source": [
    "import dill\n",
    "dill.dump_session('notebook_env.db')"
   ]
  },
  {
   "cell_type": "markdown",
   "metadata": {},
   "source": [
    "Creating Features of movie summaries"
   ]
  },
  {
   "cell_type": "code",
   "execution_count": 103,
   "metadata": {},
   "outputs": [
    {
     "data": {
      "text/plain": [
       "TfidfVectorizer()"
      ]
     },
     "execution_count": 103,
     "metadata": {},
     "output_type": "execute_result"
    }
   ],
   "source": [
    "# create TF-IDF features\n",
    "tfidf_vectorizer1 = TfidfVectorizer()\n",
    "xtrain_tfidf1 = tfidf_vectorizer1.fit_transform(xtrain)\n",
    "xtest_tfidf1 = tfidf_vectorizer1.transform(xtest)\n",
    "xval_tfidf1 = tfidf_vectorizer1.transform(xval)\n",
    "tfidf_vectorizer1"
   ]
  },
  {
   "cell_type": "code",
   "execution_count": 3,
   "metadata": {},
   "outputs": [],
   "source": [
    "from sklearn.linear_model import LogisticRegression\n",
    "\n",
    "# Binary Relevance\n",
    "from sklearn.multiclass import OneVsRestClassifier\n",
    "\n",
    "# Performance metric\n",
    "from sklearn.metrics import f1_score"
   ]
  },
  {
   "cell_type": "code",
   "execution_count": 106,
   "metadata": {},
   "outputs": [
    {
     "data": {
      "text/plain": [
       "OneVsRestClassifier(estimator=LogisticRegression())"
      ]
     },
     "execution_count": 106,
     "metadata": {},
     "output_type": "execute_result"
    }
   ],
   "source": [
    "# Logistic Regression with tfdif vectorizer\n",
    "classifier_1 = OneVsRestClassifier(LogisticRegression())\n",
    "classifier_1.fit(xtrain_tfidf1, ytrain)"
   ]
  },
  {
   "cell_type": "code",
   "execution_count": 108,
   "metadata": {},
   "outputs": [
    {
     "data": {
      "text/plain": [
       "array([[0, 0, 0, ..., 0, 0, 0],\n",
       "       [0, 0, 0, ..., 0, 0, 0],\n",
       "       [0, 0, 0, ..., 0, 0, 0],\n",
       "       ...,\n",
       "       [0, 0, 0, ..., 0, 0, 0],\n",
       "       [0, 0, 0, ..., 0, 0, 0],\n",
       "       [0, 0, 0, ..., 0, 0, 0]])"
      ]
     },
     "execution_count": 108,
     "metadata": {},
     "output_type": "execute_result"
    }
   ],
   "source": [
    "# make predictions for validation set\n",
    "y_pred = classifier_1.predict(xval_tfidf1)\n",
    "y_pred"
   ]
  },
  {
   "cell_type": "code",
   "execution_count": 111,
   "metadata": {},
   "outputs": [
    {
     "data": {
      "text/plain": [
       "0.28882377563834233"
      ]
     },
     "execution_count": 111,
     "metadata": {},
     "output_type": "execute_result"
    }
   ],
   "source": [
    "f1_score(yval, y_pred, average=\"micro\")"
   ]
  },
  {
   "cell_type": "code",
   "execution_count": 115,
   "metadata": {},
   "outputs": [],
   "source": [
    "import dill\n",
    "dill.dump_session('notebook_env.db')"
   ]
  },
  {
   "cell_type": "code",
   "execution_count": 1,
   "metadata": {},
   "outputs": [],
   "source": [
    "import dill\n",
    "dill.load_session('notebook_env.db')"
   ]
  },
  {
   "cell_type": "markdown",
   "metadata": {},
   "source": [
    "The Accuracy of the model is quite low. Trying to tune in the hyperparameters"
   ]
  },
  {
   "cell_type": "markdown",
   "metadata": {},
   "source": [
    "Trying to work with max_df during vectorization of features"
   ]
  },
  {
   "cell_type": "code",
   "execution_count": 5,
   "metadata": {},
   "outputs": [
    {
     "data": {
      "text/plain": [
       "TfidfVectorizer(max_df=0.9)"
      ]
     },
     "execution_count": 5,
     "metadata": {},
     "output_type": "execute_result"
    }
   ],
   "source": [
    "# create TF-IDF features\n",
    "tfidf_vectorizer2 = TfidfVectorizer(max_df=0.9)\n",
    "xtrain_tfidf2 = tfidf_vectorizer2.fit_transform(xtrain)\n",
    "xval_tfidf2 = tfidf_vectorizer2.transform(xval)\n",
    "tfidf_vectorizer2"
   ]
  },
  {
   "cell_type": "code",
   "execution_count": 6,
   "metadata": {},
   "outputs": [
    {
     "data": {
      "text/plain": [
       "OneVsRestClassifier(estimator=LogisticRegression())"
      ]
     },
     "execution_count": 6,
     "metadata": {},
     "output_type": "execute_result"
    }
   ],
   "source": [
    "# Logistic Regression with tfdif vectorizer\n",
    "classifier_2 = OneVsRestClassifier(LogisticRegression())\n",
    "classifier_2.fit(xtrain_tfidf2, ytrain)"
   ]
  },
  {
   "cell_type": "code",
   "execution_count": 7,
   "metadata": {},
   "outputs": [],
   "source": [
    "# make predictions for validation set\n",
    "y_pred = classifier_2.predict(xval_tfidf2)"
   ]
  },
  {
   "cell_type": "code",
   "execution_count": 8,
   "metadata": {},
   "outputs": [
    {
     "data": {
      "text/plain": [
       "0.28882377563834233"
      ]
     },
     "execution_count": 8,
     "metadata": {},
     "output_type": "execute_result"
    }
   ],
   "source": [
    "f1_score(yval, y_pred, average=\"micro\")"
   ]
  },
  {
   "cell_type": "code",
   "execution_count": 15,
   "metadata": {},
   "outputs": [
    {
     "data": {
      "text/plain": [
       "TfidfVectorizer(max_df=0.5)"
      ]
     },
     "execution_count": 15,
     "metadata": {},
     "output_type": "execute_result"
    }
   ],
   "source": [
    "# create TF-IDF features\n",
    "tfidf_vectorizer3 = TfidfVectorizer(max_df=0.5)\n",
    "xtrain_tfidf3 = tfidf_vectorizer3.fit_transform(xtrain)\n",
    "xval_tfidf3 = tfidf_vectorizer3.transform(xval)\n",
    "tfidf_vectorizer3"
   ]
  },
  {
   "cell_type": "code",
   "execution_count": 16,
   "metadata": {},
   "outputs": [
    {
     "data": {
      "text/plain": [
       "OneVsRestClassifier(estimator=LogisticRegression())"
      ]
     },
     "execution_count": 16,
     "metadata": {},
     "output_type": "execute_result"
    }
   ],
   "source": [
    "# Logistic Regression with tfdif vectorizer\n",
    "classifier_3 = OneVsRestClassifier(LogisticRegression())\n",
    "classifier_3.fit(xtrain_tfidf3, ytrain)"
   ]
  },
  {
   "cell_type": "code",
   "execution_count": 17,
   "metadata": {},
   "outputs": [
    {
     "data": {
      "text/plain": [
       "0.28854471885028604"
      ]
     },
     "execution_count": 17,
     "metadata": {},
     "output_type": "execute_result"
    }
   ],
   "source": [
    "# make predictions for validation set\n",
    "y_pred = classifier_3.predict(xval_tfidf3)\n",
    "f1_score(yval, y_pred, average=\"micro\")"
   ]
  },
  {
   "cell_type": "markdown",
   "metadata": {},
   "source": [
    "Conclusion- Parameter Max_df doesn't have any effect in accuracy. Possible Reason is All the Stop-Words are already removed by nltk library."
   ]
  },
  {
   "cell_type": "markdown",
   "metadata": {},
   "source": [
    "Let's see if min_df parameter affects anything"
   ]
  },
  {
   "cell_type": "code",
   "execution_count": 37,
   "metadata": {},
   "outputs": [
    {
     "data": {
      "text/plain": [
       "TfidfVectorizer(min_df=0.001)"
      ]
     },
     "execution_count": 37,
     "metadata": {},
     "output_type": "execute_result"
    }
   ],
   "source": [
    "# create TF-IDF features\n",
    "tfidf_vectorizer4 = TfidfVectorizer(min_df=0.001)\n",
    "xtrain_tfidf4 = tfidf_vectorizer4.fit_transform(xtrain)\n",
    "xval_tfidf4 = tfidf_vectorizer4.transform(xval)\n",
    "tfidf_vectorizer4"
   ]
  },
  {
   "cell_type": "code",
   "execution_count": 38,
   "metadata": {},
   "outputs": [
    {
     "data": {
      "text/plain": [
       "OneVsRestClassifier(estimator=LogisticRegression())"
      ]
     },
     "execution_count": 38,
     "metadata": {},
     "output_type": "execute_result"
    }
   ],
   "source": [
    "# Logistic Regression with tfdif vectorizer\n",
    "classifier_4 = OneVsRestClassifier(LogisticRegression())\n",
    "classifier_4.fit(xtrain_tfidf4, ytrain)"
   ]
  },
  {
   "cell_type": "code",
   "execution_count": 39,
   "metadata": {},
   "outputs": [
    {
     "data": {
      "text/plain": [
       "0.31684782608695655"
      ]
     },
     "execution_count": 39,
     "metadata": {},
     "output_type": "execute_result"
    }
   ],
   "source": [
    "# make predictions for validation set\n",
    "y_pred = classifier_4.predict(xval_tfidf4)\n",
    "f1_score(yval, y_pred, average=\"micro\")"
   ]
  },
  {
   "cell_type": "markdown",
   "metadata": {},
   "source": [
    "Okay, We see some good results by ignoring the words present in less than 0.1% books out of 12390 Books. Let's increase the % to see its effect."
   ]
  },
  {
   "cell_type": "code",
   "execution_count": 40,
   "metadata": {},
   "outputs": [
    {
     "data": {
      "text/plain": [
       "TfidfVectorizer(min_df=0.01)"
      ]
     },
     "execution_count": 40,
     "metadata": {},
     "output_type": "execute_result"
    }
   ],
   "source": [
    "# create TF-IDF features\n",
    "tfidf_vectorizer5 = TfidfVectorizer(min_df=0.01)\n",
    "xtrain_tfidf5 = tfidf_vectorizer5.fit_transform(xtrain)\n",
    "xval_tfidf5 = tfidf_vectorizer5.transform(xval)\n",
    "tfidf_vectorizer5"
   ]
  },
  {
   "cell_type": "code",
   "execution_count": 41,
   "metadata": {},
   "outputs": [
    {
     "data": {
      "text/plain": [
       "OneVsRestClassifier(estimator=LogisticRegression())"
      ]
     },
     "execution_count": 41,
     "metadata": {},
     "output_type": "execute_result"
    }
   ],
   "source": [
    "# Logistic Regression with tfdif vectorizer\n",
    "classifier_5 = OneVsRestClassifier(LogisticRegression())\n",
    "classifier_5.fit(xtrain_tfidf5, ytrain)"
   ]
  },
  {
   "cell_type": "code",
   "execution_count": 42,
   "metadata": {},
   "outputs": [
    {
     "data": {
      "text/plain": [
       "0.3362924281984334"
      ]
     },
     "execution_count": 42,
     "metadata": {},
     "output_type": "execute_result"
    }
   ],
   "source": [
    "# make predictions for validation set\n",
    "y_pred = classifier_5.predict(xval_tfidf5)\n",
    "f1_score(yval, y_pred, average=\"micro\")"
   ]
  },
  {
   "cell_type": "markdown",
   "metadata": {},
   "source": [
    "Score Improves by ignoring 1% books out of 12390 Books. Let's increase further."
   ]
  },
  {
   "cell_type": "code",
   "execution_count": 61,
   "metadata": {},
   "outputs": [
    {
     "data": {
      "text/plain": [
       "TfidfVectorizer(min_df=0.02)"
      ]
     },
     "execution_count": 61,
     "metadata": {},
     "output_type": "execute_result"
    }
   ],
   "source": [
    "# create TF-IDF features\n",
    "tfidf_vectorizer6 = TfidfVectorizer(min_df=0.02)\n",
    "xtrain_tfidf6 = tfidf_vectorizer6.fit_transform(xtrain)\n",
    "xval_tfidf6 = tfidf_vectorizer6.transform(xval)\n",
    "tfidf_vectorizer6"
   ]
  },
  {
   "cell_type": "code",
   "execution_count": 62,
   "metadata": {},
   "outputs": [
    {
     "data": {
      "text/plain": [
       "OneVsRestClassifier(estimator=LogisticRegression())"
      ]
     },
     "execution_count": 62,
     "metadata": {},
     "output_type": "execute_result"
    }
   ],
   "source": [
    "# Logistic Regression with tfdif vectorizer\n",
    "classifier_6 = OneVsRestClassifier(LogisticRegression())\n",
    "classifier_6.fit(xtrain_tfidf6, ytrain)"
   ]
  },
  {
   "cell_type": "code",
   "execution_count": 63,
   "metadata": {},
   "outputs": [
    {
     "data": {
      "text/plain": [
       "0.331304235202694"
      ]
     },
     "execution_count": 63,
     "metadata": {},
     "output_type": "execute_result"
    }
   ],
   "source": [
    "# make predictions for validation set\n",
    "y_pred = classifier_6.predict(xval_tfidf6)\n",
    "f1_score(yval, y_pred, average=\"micro\")"
   ]
  },
  {
   "cell_type": "markdown",
   "metadata": {},
   "source": [
    "We see increasing the % from 1 to 2 decreases the accuracy. Let's just calculate accuracy for 4% and 10% to validate that accuracy decreases. "
   ]
  },
  {
   "cell_type": "code",
   "execution_count": 64,
   "metadata": {},
   "outputs": [
    {
     "data": {
      "text/plain": [
       "TfidfVectorizer(min_df=0.04)"
      ]
     },
     "execution_count": 64,
     "metadata": {},
     "output_type": "execute_result"
    }
   ],
   "source": [
    "# create TF-IDF features\n",
    "tfidf_vectorizer7 = TfidfVectorizer(min_df=0.04)\n",
    "xtrain_tfidf7 = tfidf_vectorizer7.fit_transform(xtrain)\n",
    "xval_tfidf7 = tfidf_vectorizer7.transform(xval)\n",
    "tfidf_vectorizer7"
   ]
  },
  {
   "cell_type": "code",
   "execution_count": 65,
   "metadata": {},
   "outputs": [
    {
     "data": {
      "text/plain": [
       "OneVsRestClassifier(estimator=LogisticRegression())"
      ]
     },
     "execution_count": 65,
     "metadata": {},
     "output_type": "execute_result"
    }
   ],
   "source": [
    "# Logistic Regression with tfdif vectorizer\n",
    "classifier_7 = OneVsRestClassifier(LogisticRegression())\n",
    "classifier_7.fit(xtrain_tfidf7, ytrain)"
   ]
  },
  {
   "cell_type": "code",
   "execution_count": 66,
   "metadata": {},
   "outputs": [
    {
     "data": {
      "text/plain": [
       "0.32071097372488405"
      ]
     },
     "execution_count": 66,
     "metadata": {},
     "output_type": "execute_result"
    }
   ],
   "source": [
    "# make predictions for validation set\n",
    "y_pred = classifier_7.predict(xval_tfidf7)\n",
    "f1_score(yval, y_pred, average=\"micro\")"
   ]
  },
  {
   "cell_type": "code",
   "execution_count": 70,
   "metadata": {},
   "outputs": [
    {
     "data": {
      "text/plain": [
       "TfidfVectorizer(min_df=0.1)"
      ]
     },
     "execution_count": 70,
     "metadata": {},
     "output_type": "execute_result"
    }
   ],
   "source": [
    "# create TF-IDF features\n",
    "tfidf_vectorizer8 = TfidfVectorizer(min_df=0.1)\n",
    "xtrain_tfidf8 = tfidf_vectorizer8.fit_transform(xtrain)\n",
    "xval_tfidf8 = tfidf_vectorizer8.transform(xval)\n",
    "tfidf_vectorizer8"
   ]
  },
  {
   "cell_type": "code",
   "execution_count": 71,
   "metadata": {},
   "outputs": [
    {
     "data": {
      "text/plain": [
       "OneVsRestClassifier(estimator=LogisticRegression())"
      ]
     },
     "execution_count": 71,
     "metadata": {},
     "output_type": "execute_result"
    }
   ],
   "source": [
    "# Logistic Regression with tfdif vectorizer\n",
    "classifier_8 = OneVsRestClassifier(LogisticRegression())\n",
    "classifier_8.fit(xtrain_tfidf8, ytrain)"
   ]
  },
  {
   "cell_type": "code",
   "execution_count": 72,
   "metadata": {},
   "outputs": [
    {
     "data": {
      "text/plain": [
       "0.25013491635186186"
      ]
     },
     "execution_count": 72,
     "metadata": {},
     "output_type": "execute_result"
    }
   ],
   "source": [
    "# make predictions for validation set\n",
    "y_pred = classifier_8.predict(xval_tfidf8)\n",
    "f1_score(yval, y_pred, average=\"micro\")"
   ]
  },
  {
   "cell_type": "code",
   "execution_count": 73,
   "metadata": {},
   "outputs": [],
   "source": [
    "min_df_dict={\"0\":round(0.28854471885028604*100,2),\"0.1\":round(0.31684782608695655*100,2),\n",
    "             \"1\":round(0.3362924281984334*100,2), \"2\":round(0.331304235202694*100,2),\n",
    "             \"4\": round(0.32071097372488405*100,2), \"10\": round(0.25013491635186186*100,2)}"
   ]
  },
  {
   "cell_type": "code",
   "execution_count": 74,
   "metadata": {},
   "outputs": [
    {
     "data": {
      "text/html": [
       "<div>\n",
       "<style scoped>\n",
       "    .dataframe tbody tr th:only-of-type {\n",
       "        vertical-align: middle;\n",
       "    }\n",
       "\n",
       "    .dataframe tbody tr th {\n",
       "        vertical-align: top;\n",
       "    }\n",
       "\n",
       "    .dataframe thead th {\n",
       "        text-align: right;\n",
       "    }\n",
       "</style>\n",
       "<table border=\"1\" class=\"dataframe\">\n",
       "  <thead>\n",
       "    <tr style=\"text-align: right;\">\n",
       "      <th></th>\n",
       "      <th>% min_df_parameter</th>\n",
       "      <th>Accuracy</th>\n",
       "    </tr>\n",
       "  </thead>\n",
       "  <tbody>\n",
       "    <tr>\n",
       "      <th>0</th>\n",
       "      <td>0</td>\n",
       "      <td>28.85</td>\n",
       "    </tr>\n",
       "    <tr>\n",
       "      <th>1</th>\n",
       "      <td>0.1</td>\n",
       "      <td>31.68</td>\n",
       "    </tr>\n",
       "    <tr>\n",
       "      <th>2</th>\n",
       "      <td>1</td>\n",
       "      <td>33.63</td>\n",
       "    </tr>\n",
       "    <tr>\n",
       "      <th>3</th>\n",
       "      <td>2</td>\n",
       "      <td>33.13</td>\n",
       "    </tr>\n",
       "    <tr>\n",
       "      <th>4</th>\n",
       "      <td>4</td>\n",
       "      <td>32.07</td>\n",
       "    </tr>\n",
       "    <tr>\n",
       "      <th>5</th>\n",
       "      <td>10</td>\n",
       "      <td>25.01</td>\n",
       "    </tr>\n",
       "  </tbody>\n",
       "</table>\n",
       "</div>"
      ],
      "text/plain": [
       "  % min_df_parameter  Accuracy\n",
       "0                  0     28.85\n",
       "1                0.1     31.68\n",
       "2                  1     33.63\n",
       "3                  2     33.13\n",
       "4                  4     32.07\n",
       "5                 10     25.01"
      ]
     },
     "execution_count": 74,
     "metadata": {},
     "output_type": "execute_result"
    }
   ],
   "source": [
    "# create dataframe\n",
    "min_df_df = pd.DataFrame({'% min_df_parameter': list(min_df_dict.keys()), \n",
    "                              'Accuracy': list(min_df_dict.values())})\n",
    "min_df_df"
   ]
  },
  {
   "cell_type": "code",
   "execution_count": 77,
   "metadata": {},
   "outputs": [
    {
     "data": {
      "text/plain": [
       "<matplotlib.axes._subplots.AxesSubplot at 0x55dc68f0>"
      ]
     },
     "execution_count": 77,
     "metadata": {},
     "output_type": "execute_result"
    },
    {
     "data": {
      "image/png": "[encoded data removed]",
      "text/plain": [
       "<Figure size 432x288 with 1 Axes>"
      ]
     },
     "metadata": {
      "needs_background": "light"
     },
     "output_type": "display_data"
    }
   ],
   "source": [
    "sns.barplot(y='Accuracy',x='% min_df_parameter',data=min_df_df,order=[\"0\",\"0.1\",\"1\",\"2\",\"4\",\"10\"])"
   ]
  },
  {
   "cell_type": "markdown",
   "metadata": {},
   "source": [
    "Why ignoring words present in less than 1% of books increases the accuracy?\n",
    "Explanation: There may be some typos in some books which are irrelevant plus there may be some slangs which have very less chances of coming in any other book. There is no relation between the genre and the typos/irrelevant words present in the books.\n",
    "Why increasing % further more than 1 decreases accuracy?\n",
    "Explanation: Further increasing the percentage may have drastic effects. The reason is that some low occuring words may highlight some specific features present in the summary of the book (differentiating factors)."
   ]
  },
  {
   "cell_type": "markdown",
   "metadata": {},
   "source": [
    "We'll fix min_df=0.01 (1%) for further discussion and try to work with ngram_range parameter."
   ]
  },
  {
   "cell_type": "code",
   "execution_count": 4,
   "metadata": {},
   "outputs": [
    {
     "data": {
      "text/plain": [
       "TfidfVectorizer(min_df=0.01, ngram_range=(1, 3))"
      ]
     },
     "execution_count": 4,
     "metadata": {},
     "output_type": "execute_result"
    }
   ],
   "source": [
    "# create TF-IDF features\n",
    "tfidf_vectorizer9 = TfidfVectorizer(min_df=0.01,ngram_range=(1,3))\n",
    "xtrain_tfidf9 = tfidf_vectorizer9.fit_transform(xtrain)\n",
    "xval_tfidf9 = tfidf_vectorizer9.transform(xval)\n",
    "tfidf_vectorizer9"
   ]
  },
  {
   "cell_type": "code",
   "execution_count": 5,
   "metadata": {},
   "outputs": [
    {
     "data": {
      "text/plain": [
       "OneVsRestClassifier(estimator=LogisticRegression())"
      ]
     },
     "execution_count": 5,
     "metadata": {},
     "output_type": "execute_result"
    }
   ],
   "source": [
    "# Logistic Regression with tfdif vectorizer\n",
    "classifier_9 = OneVsRestClassifier(LogisticRegression())\n",
    "classifier_9.fit(xtrain_tfidf9, ytrain)"
   ]
  },
  {
   "cell_type": "code",
   "execution_count": 6,
   "metadata": {},
   "outputs": [
    {
     "data": {
      "text/plain": [
       "0.3331154399267878"
      ]
     },
     "execution_count": 6,
     "metadata": {},
     "output_type": "execute_result"
    }
   ],
   "source": [
    "# make predictions for validation set\n",
    "y_pred = classifier_9.predict(xval_tfidf9)\n",
    "f1_score(yval, y_pred, average=\"micro\")"
   ]
  },
  {
   "cell_type": "markdown",
   "metadata": {},
   "source": [
    "Accuracy more or less remains the same but we know using bi-grams/ tri-grams is always helpful and may show its cumulative effect after tuning in the hyperparameters of logistic regression. So, we'll include it."
   ]
  },
  {
   "cell_type": "code",
   "execution_count": 4,
   "metadata": {},
   "outputs": [
    {
     "data": {
      "text/plain": [
       "TfidfVectorizer(min_df=0.01, ngram_range=(1, 3))"
      ]
     },
     "execution_count": 4,
     "metadata": {},
     "output_type": "execute_result"
    }
   ],
   "source": [
    "# final tfidf vectorizer\n",
    "tfidf_vectorizer = TfidfVectorizer(min_df=0.01,ngram_range=(1,3))\n",
    "xtrain_tfidf = tfidf_vectorizer.fit_transform(xtrain)\n",
    "xval_tfidf = tfidf_vectorizer.transform(xval)\n",
    "tfidf_vectorizer"
   ]
  },
  {
   "cell_type": "markdown",
   "metadata": {},
   "source": [
    "Tuning in the C parameter in Logistic Regression"
   ]
  },
  {
   "cell_type": "code",
   "execution_count": null,
   "metadata": {},
   "outputs": [],
   "source": [
    "# Logistic Regression with tfdif vectorizer\n",
    "classifier_9 = OneVsRestClassifier(LogisticRegression())\n",
    "classifier_9.fit(xtrain_tfidf9, ytrain)"
   ]
  },
  {
   "cell_type": "code",
   "execution_count": 25,
   "metadata": {},
   "outputs": [],
   "source": [
    "C_dict={\n",
    "        \"training\": {\"C=0.1\":0,\"C=1\":0,\"C=2\":0,\"C=8\":0},\n",
    "        \"validation\": {\"C=0.1\":0,\"C=1\":0,\"C=2\":0,\"C=8\":0}\n",
    "}"
   ]
  },
  {
   "cell_type": "code",
   "execution_count": 26,
   "metadata": {},
   "outputs": [
    {
     "name": "stdout",
     "output_type": "stream",
     "text": [
      "Micro-average quality numbers for C= 0.1\n",
      " F1-measure for train: 0.1228\n",
      " F1-measure for val: 0.1000\n",
      "Micro-average quality numbers for C= 1\n",
      " F1-measure for train: 0.4516\n",
      " F1-measure for val: 0.3331\n",
      "Micro-average quality numbers for C= 2\n",
      " F1-measure for train: 0.5444\n",
      " F1-measure for val: 0.3785\n",
      "Micro-average quality numbers for C= 8\n",
      " F1-measure for train: 0.7399\n",
      " F1-measure for val: 0.4179\n",
      "Time taken to run this cell : 0:01:02.014435\n"
     ]
    }
   ],
   "source": [
    "from datetime import datetime\n",
    "start = datetime.now()\n",
    "alpha=[0.1,1,2,8]\n",
    "for j in alpha:\n",
    "    classifier_10 = OneVsRestClassifier(LogisticRegression(C=j,max_iter=150))\n",
    "    classifier_10.fit(xtrain_tfidf, ytrain)\n",
    "    \n",
    "    \n",
    "    f1 = f1_score(ytrain, classifier_10.predict(xtrain_tfidf), average='micro')\n",
    "    f2 = f1_score(yval, classifier_10.predict(xval_tfidf), average='micro')\n",
    "    s=\"C=\"+str(j)\n",
    "    C_dict[\"training\"][s]=f1\n",
    "    C_dict[\"validation\"][s]=f2\n",
    "    print(\"Micro-average quality numbers for C=\",j)\n",
    "    print(\" F1-measure for train: {:.4f}\".format( f1))\n",
    "    print(\" F1-measure for val: {:.4f}\".format( f2))\n",
    "print(\"Time taken to run this cell :\", datetime.now() - start)"
   ]
  },
  {
   "cell_type": "code",
   "execution_count": 27,
   "metadata": {},
   "outputs": [
    {
     "data": {
      "text/plain": [
       "{'training': {'C=0.1': 0.12277143162165045,\n",
       "  'C=1': 0.45155300472653614,\n",
       "  'C=2': 0.5443646975313511,\n",
       "  'C=8': 0.7398990765850813},\n",
       " 'validation': {'C=0.1': 0.1,\n",
       "  'C=1': 0.3331154399267878,\n",
       "  'C=2': 0.3785046728971963,\n",
       "  'C=8': 0.41788057377960636}}"
      ]
     },
     "execution_count": 27,
     "metadata": {},
     "output_type": "execute_result"
    }
   ],
   "source": [
    "C_dict"
   ]
  },
  {
   "cell_type": "code",
   "execution_count": 40,
   "metadata": {},
   "outputs": [
    {
     "data": {
      "image/png": "[encoded data removed]",
      "text/plain": [
       "<Figure size 720x504 with 1 Axes>"
      ]
     },
     "metadata": {
      "needs_background": "light"
     },
     "output_type": "display_data"
    }
   ],
   "source": [
    "pd.DataFrame(C_dict).plot(kind='bar',figsize=(10,7))\n",
    "plt.xlabel('C parameter')\n",
    "plt.ylabel('Accuracy')\n",
    "plt.show()"
   ]
  },
  {
   "cell_type": "markdown",
   "metadata": {},
   "source": [
    "For C=8, we get maximum accuracy but here the training data is quite overfitted. So, it is better to take less value. C=2 looks perfect."
   ]
  },
  {
   "cell_type": "markdown",
   "metadata": {},
   "source": [
    "Exploring solvers liblinear and saga with penalties"
   ]
  },
  {
   "cell_type": "code",
   "execution_count": 12,
   "metadata": {},
   "outputs": [
    {
     "data": {
      "text/plain": [
       "OneVsRestClassifier(estimator=LogisticRegression(C=2, max_iter=200,\n",
       "                                                 penalty='l1', solver='saga'))"
      ]
     },
     "execution_count": 12,
     "metadata": {},
     "output_type": "execute_result"
    }
   ],
   "source": [
    "# Logistic Regression with tfdif vectorizer\n",
    "classifier_11 = OneVsRestClassifier(LogisticRegression(C=2,max_iter=200,solver='saga',penalty='l1'))\n",
    "classifier_11.fit(xtrain_tfidf, ytrain)"
   ]
  },
  {
   "cell_type": "code",
   "execution_count": 13,
   "metadata": {},
   "outputs": [
    {
     "data": {
      "text/plain": [
       "0.39981229469732515"
      ]
     },
     "execution_count": 13,
     "metadata": {},
     "output_type": "execute_result"
    }
   ],
   "source": [
    "# make predictions for validation set\n",
    "y_pred = classifier_11.predict(xval_tfidf)\n",
    "f1_score(yval, y_pred, average=\"micro\")"
   ]
  },
  {
   "cell_type": "code",
   "execution_count": 14,
   "metadata": {},
   "outputs": [
    {
     "data": {
      "text/plain": [
       "OneVsRestClassifier(estimator=LogisticRegression(C=2, max_iter=200,\n",
       "                                                 solver='saga'))"
      ]
     },
     "execution_count": 14,
     "metadata": {},
     "output_type": "execute_result"
    }
   ],
   "source": [
    "# Logistic Regression with tfdif vectorizer\n",
    "classifier_12 = OneVsRestClassifier(LogisticRegression(C=2,max_iter=200,solver='saga',penalty='l2'))\n",
    "classifier_12.fit(xtrain_tfidf, ytrain)"
   ]
  },
  {
   "cell_type": "code",
   "execution_count": 15,
   "metadata": {},
   "outputs": [
    {
     "data": {
      "text/plain": [
       "0.3783185840707965"
      ]
     },
     "execution_count": 15,
     "metadata": {},
     "output_type": "execute_result"
    }
   ],
   "source": [
    "# make predictions for validation set\n",
    "y_pred = classifier_12.predict(xval_tfidf)\n",
    "f1_score(yval, y_pred, average=\"micro\")"
   ]
  },
  {
   "cell_type": "code",
   "execution_count": 16,
   "metadata": {},
   "outputs": [
    {
     "data": {
      "text/plain": [
       "OneVsRestClassifier(estimator=LogisticRegression(C=2, max_iter=200,\n",
       "                                                 penalty='l1',\n",
       "                                                 solver='liblinear'))"
      ]
     },
     "execution_count": 16,
     "metadata": {},
     "output_type": "execute_result"
    }
   ],
   "source": [
    "# Logistic Regression with tfdif vectorizer\n",
    "classifier_13 = OneVsRestClassifier(LogisticRegression(C=2,max_iter=200,solver='liblinear',penalty='l1'))\n",
    "classifier_13.fit(xtrain_tfidf, ytrain)"
   ]
  },
  {
   "cell_type": "code",
   "execution_count": 17,
   "metadata": {},
   "outputs": [
    {
     "data": {
      "text/plain": [
       "0.40014072944763696"
      ]
     },
     "execution_count": 17,
     "metadata": {},
     "output_type": "execute_result"
    }
   ],
   "source": [
    "# make predictions for validation set\n",
    "y_pred = classifier_13.predict(xval_tfidf)\n",
    "f1_score(yval, y_pred, average=\"micro\")"
   ]
  },
  {
   "cell_type": "code",
   "execution_count": 18,
   "metadata": {},
   "outputs": [
    {
     "data": {
      "text/plain": [
       "OneVsRestClassifier(estimator=LogisticRegression(C=2, max_iter=200,\n",
       "                                                 solver='liblinear'))"
      ]
     },
     "execution_count": 18,
     "metadata": {},
     "output_type": "execute_result"
    }
   ],
   "source": [
    "# Logistic Regression with tfdif vectorizer\n",
    "classifier_14 = OneVsRestClassifier(LogisticRegression(C=2,max_iter=200,solver='liblinear',penalty='l2'))\n",
    "classifier_14.fit(xtrain_tfidf, ytrain)"
   ]
  },
  {
   "cell_type": "code",
   "execution_count": 19,
   "metadata": {},
   "outputs": [
    {
     "data": {
      "text/plain": [
       "0.37805927930143896"
      ]
     },
     "execution_count": 19,
     "metadata": {},
     "output_type": "execute_result"
    }
   ],
   "source": [
    "# make predictions for validation set\n",
    "y_pred = classifier_14.predict(xval_tfidf)\n",
    "f1_score(yval, y_pred, average=\"micro\")"
   ]
  },
  {
   "cell_type": "code",
   "execution_count": 30,
   "metadata": {},
   "outputs": [],
   "source": [
    "solver_dict={}\n",
    "solver_dict[\"saga\"]=[round(0.39981229469732515*100,2),round(0.3783185840707965*100,2)]\n",
    "solver_dict[\"liblinear\"]=[round(0.40014072944763696*100,2),round(0.37805927930143896*100,2)]"
   ]
  },
  {
   "cell_type": "code",
   "execution_count": 31,
   "metadata": {},
   "outputs": [
    {
     "data": {
      "text/html": [
       "<div>\n",
       "<style scoped>\n",
       "    .dataframe tbody tr th:only-of-type {\n",
       "        vertical-align: middle;\n",
       "    }\n",
       "\n",
       "    .dataframe tbody tr th {\n",
       "        vertical-align: top;\n",
       "    }\n",
       "\n",
       "    .dataframe thead th {\n",
       "        text-align: right;\n",
       "    }\n",
       "</style>\n",
       "<table border=\"1\" class=\"dataframe\">\n",
       "  <thead>\n",
       "    <tr style=\"text-align: right;\">\n",
       "      <th></th>\n",
       "      <th>saga</th>\n",
       "      <th>liblinear</th>\n",
       "    </tr>\n",
       "  </thead>\n",
       "  <tbody>\n",
       "    <tr>\n",
       "      <th>l1 penalty</th>\n",
       "      <td>39.98</td>\n",
       "      <td>40.01</td>\n",
       "    </tr>\n",
       "    <tr>\n",
       "      <th>l2 penalty</th>\n",
       "      <td>37.83</td>\n",
       "      <td>37.81</td>\n",
       "    </tr>\n",
       "  </tbody>\n",
       "</table>\n",
       "</div>"
      ],
      "text/plain": [
       "             saga  liblinear\n",
       "l1 penalty  39.98      40.01\n",
       "l2 penalty  37.83      37.81"
      ]
     },
     "execution_count": 31,
     "metadata": {},
     "output_type": "execute_result"
    }
   ],
   "source": [
    "solver_df=pd.DataFrame(solver_dict)\n",
    "solver_df.index=[\"l1 penalty\",\"l2 penalty\"]\n",
    "solver_df"
   ]
  },
  {
   "cell_type": "code",
   "execution_count": 34,
   "metadata": {},
   "outputs": [
    {
     "data": {
      "text/plain": [
       "<matplotlib.axes._subplots.AxesSubplot at 0x1f729af0>"
      ]
     },
     "execution_count": 34,
     "metadata": {},
     "output_type": "execute_result"
    },
    {
     "data": {
      "image/png": "[encoded data removed]",
      "text/plain": [
       "<Figure size 432x288 with 2 Axes>"
      ]
     },
     "metadata": {
      "needs_background": "light"
     },
     "output_type": "display_data"
    }
   ],
   "source": [
    "sns.heatmap(solver_df,cmap=\"YlGnBu\")"
   ]
  },
  {
   "cell_type": "markdown",
   "metadata": {},
   "source": [
    "liblinear with l1 penalty suits best"
   ]
  },
  {
   "cell_type": "markdown",
   "metadata": {},
   "source": [
    "Trying to vary the thresholds to get the accurate threshold."
   ]
  },
  {
   "cell_type": "code",
   "execution_count": 15,
   "metadata": {},
   "outputs": [
    {
     "data": {
      "text/plain": [
       "OneVsRestClassifier(estimator=LogisticRegression(max_iter=200, penalty='l1',\n",
       "                                                 solver='liblinear'))"
      ]
     },
     "execution_count": 15,
     "metadata": {},
     "output_type": "execute_result"
    }
   ],
   "source": [
    "# Logistic Regression with tfdif vectorizer\n",
    "classifier_15 = OneVsRestClassifier(LogisticRegression(max_iter=200,solver='liblinear',penalty='l1'))\n",
    "classifier_15.fit(xtrain_tfidf, ytrain)"
   ]
  },
  {
   "cell_type": "code",
   "execution_count": 19,
   "metadata": {},
   "outputs": [],
   "source": [
    "thresholds=[0.1,0.2,0.25,0.3,0.4,0.5,0.6]\n",
    "train_acc=[]\n",
    "val_acc=[]"
   ]
  },
  {
   "cell_type": "code",
   "execution_count": 20,
   "metadata": {},
   "outputs": [
    {
     "name": "stdout",
     "output_type": "stream",
     "text": [
      "Micro-average quality numbers for threshold= 0.1\n",
      " F1-measure for train: 0.4762\n",
      " F1-measure for cv: 0.4550\n",
      "Micro-average quality numbers for threshold= 0.2\n",
      " F1-measure for train: 0.5539\n",
      " F1-measure for cv: 0.5048\n",
      "Micro-average quality numbers for threshold= 0.25\n",
      " F1-measure for train: 0.5639\n",
      " F1-measure for cv: 0.5081\n",
      "Micro-average quality numbers for threshold= 0.3\n",
      " F1-measure for train: 0.5593\n",
      " F1-measure for cv: 0.4902\n",
      "Micro-average quality numbers for threshold= 0.4\n",
      " F1-measure for train: 0.5085\n",
      " F1-measure for cv: 0.4284\n",
      "Micro-average quality numbers for threshold= 0.5\n",
      " F1-measure for train: 0.4124\n",
      " F1-measure for cv: 0.3432\n",
      "Micro-average quality numbers for threshold= 0.6\n",
      " F1-measure for train: 0.3126\n",
      " F1-measure for cv: 0.2609\n"
     ]
    }
   ],
   "source": [
    "y_pred1 = classifier_15.predict_proba(xtrain_tfidf)\n",
    "y_pred2 = classifier_15.predict_proba(xval_tfidf)\n",
    "for i in thresholds:\n",
    "    predictions_1 = (y_pred1 >= i).astype(int)\n",
    "    predictions_2 = (y_pred2 >= i).astype(int)\n",
    "    f1 = f1_score(ytrain, predictions_1, average='micro')\n",
    "    f2 = f1_score(yval, predictions_2, average='micro')\n",
    "    train_acc.append(f1)\n",
    "    val_acc.append(f2)\n",
    "    print(\"Micro-average quality numbers for threshold=\",i)\n",
    "    print(\" F1-measure for train: {:.4f}\".format( f1))\n",
    "    print(\" F1-measure for cv: {:.4f}\".format( f2))"
   ]
  },
  {
   "cell_type": "code",
   "execution_count": 34,
   "metadata": {},
   "outputs": [
    {
     "data": {
      "text/plain": [
       "Text(0.5, 1.0, 'Accuracy v/s Validation for training data')"
      ]
     },
     "execution_count": 34,
     "metadata": {},
     "output_type": "execute_result"
    },
    {
     "data": {
      "image/png": "[encoded data removed]",
      "text/plain": [
       "<Figure size 1008x288 with 2 Axes>"
      ]
     },
     "metadata": {
      "needs_background": "light"
     },
     "output_type": "display_data"
    }
   ],
   "source": [
    "f = plt.figure(figsize=(14,4))\n",
    "ax = f.add_subplot(121)\n",
    "ax2 = f.add_subplot(122)\n",
    "ax.plot(thresholds,train_acc , 'r')\n",
    "ax.set_xlabel('Thresholds')\n",
    "ax.set_ylabel('Training Accuracy')\n",
    "ax.set_title('Accuracy v/s Thresholds for training data')\n",
    "ax2.plot(thresholds,val_acc , 'b')\n",
    "ax2.set_xlabel('Thresholds')\n",
    "ax2.set_ylabel('Validation Accuracy')\n",
    "ax2.set_title('Accuracy v/s Validation for training data')"
   ]
  },
  {
   "cell_type": "markdown",
   "metadata": {},
   "source": [
    "Threshold 0.25 gives the maxima for accuracy."
   ]
  },
  {
   "cell_type": "markdown",
   "metadata": {},
   "source": [
    "Final Model-\n",
    "\n",
    "<space>\n",
    "    \n",
    "    \n",
    "Tfidf Vectorizer- min_df=0.01,ngram_range=(1,3)\n",
    "    \n",
    "</space>  \n",
    "<space>\n",
    "    \n",
    "Logistic Regression- max_iter=200,solver='liblinear',penalty='l1', threshold= 0.25\n",
    "</space>"
   ]
  },
  {
   "cell_type": "code",
   "execution_count": 12,
   "metadata": {},
   "outputs": [
    {
     "data": {
      "text/plain": [
       "OneVsRestClassifier(estimator=LogisticRegression(max_iter=200, penalty='l1',\n",
       "                                                 solver='liblinear'))"
      ]
     },
     "execution_count": 12,
     "metadata": {},
     "output_type": "execute_result"
    }
   ],
   "source": [
    "# Logistic Regression with tfdif vectorizer\n",
    "classifier_16 = OneVsRestClassifier(LogisticRegression(max_iter=200,solver='liblinear',penalty='l1'))\n",
    "classifier_16.fit(xtrain_tfidf, ytrain)"
   ]
  },
  {
   "cell_type": "markdown",
   "metadata": {},
   "source": [
    "Getting Accuracy on testing Data"
   ]
  },
  {
   "cell_type": "code",
   "execution_count": 13,
   "metadata": {},
   "outputs": [],
   "source": [
    "xtest_tfidf = tfidf_vectorizer.transform(xtest)"
   ]
  },
  {
   "cell_type": "code",
   "execution_count": 17,
   "metadata": {},
   "outputs": [],
   "source": [
    "y_pred = classifier_16.predict_proba(xtest_tfidf)\n",
    "predictions = (y_pred >= 0.25).astype(int)"
   ]
  },
  {
   "cell_type": "code",
   "execution_count": 18,
   "metadata": {},
   "outputs": [],
   "source": [
    "Acc = f1_score(ytest, predictions, average='micro')"
   ]
  },
  {
   "cell_type": "code",
   "execution_count": 21,
   "metadata": {},
   "outputs": [
    {
     "name": "stdout",
     "output_type": "stream",
     "text": [
      " F1-measure for Test Data: 0.5192\n"
     ]
    }
   ],
   "source": [
    "print(\" F1-measure for Test Data: {:.4f}\".format(Acc))"
   ]
  },
  {
   "cell_type": "code",
   "execution_count": 59,
   "metadata": {},
   "outputs": [],
   "source": [
    "def infer_tags(q):\n",
    "    q_vec = tfidf_vectorizer.transform([q])\n",
    "    q_pred = classifier_16.predict_proba(q_vec)\n",
    "    predictions = (q_pred >= 0.25).astype(int)\n",
    "    ans=multilabel_binarizer.inverse_transform(predictions)\n",
    "    return ans"
   ]
  },
  {
   "cell_type": "code",
   "execution_count": 63,
   "metadata": {},
   "outputs": [
    {
     "name": "stdout",
     "output_type": "stream",
     "text": [
      "Movie:  Attaboy Sam! \n",
      "Predicted genre:  [(\"Children's literature\", 'Fiction')]\n",
      "Actual genre:  [\"Children's literature\", 'Young adult literature'] \n",
      "\n",
      "Movie:  The Attack \n",
      "Predicted genre:  [('Fiction', 'Science Fiction', 'Speculative fiction')]\n",
      "Actual genre:  ['Science Fiction', 'Speculative fiction', 'Novel'] \n",
      "\n",
      "Movie:  Peace Breaks Out \n",
      "Predicted genre:  [('Fiction', 'Novel')]\n",
      "Actual genre:  [\"Children's literature\", 'Fiction', 'Novel'] \n",
      "\n",
      "Movie:  The Krillitane Storm \n",
      "Predicted genre:  [('Speculative fiction',)]\n",
      "Actual genre:  ['Science Fiction'] \n",
      "\n",
      "Movie:  The King's Buccaneer \n",
      "Predicted genre:  [('Fantasy', 'Fiction', 'Science Fiction', 'Speculative fiction')]\n",
      "Actual genre:  ['Fantasy'] \n",
      "\n"
     ]
    }
   ],
   "source": [
    "for i in range(5): \n",
    "    k = xtest.sample(1).index[0]\n",
    "    print(\"Movie: \", df['Title'][k], \"\\nPredicted genre: \", infer_tags(xtest[k])), print(\"Actual genre: \",df['Genres'][k], \"\\n\")"
   ]
  }
 ],
 "metadata": {
  "kernelspec": {
   "display_name": "Python 3",
   "language": "python",
   "name": "python3"
  },
  "language_info": {
   "codemirror_mode": {
    "name": "ipython",
    "version": 3
   },
   "file_extension": ".py",
   "mimetype": "text/x-python",
   "name": "python",
   "nbconvert_exporter": "python",
   "pygments_lexer": "ipython3",
   "version": "3.7.4"
  }
 },
 "nbformat": 4,
 "nbformat_minor": 4
}
